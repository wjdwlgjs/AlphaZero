{
 "cells": [
  {
   "cell_type": "code",
   "execution_count": 1,
   "metadata": {},
   "outputs": [],
   "source": [
    "from alphazero import AlphaZero\n",
    "from models.tictactoe import *\n",
    "\n",
    "agent = AlphaZero(TicTacToe(), Tictactoe_ACnet())"
   ]
  },
  {
   "cell_type": "code",
   "execution_count": 2,
   "metadata": {},
   "outputs": [],
   "source": [
    "for i in range(100):\n",
    "    agent.play()\n",
    "    agent.train()"
   ]
  },
  {
   "cell_type": "code",
   "execution_count": 3,
   "metadata": {},
   "outputs": [
    {
     "data": {
      "text/plain": [
       "(tensor([2.2498e-04, 7.0948e-05, 2.2492e-05, 4.0720e-05, 2.9606e-05, 3.0062e-05,\n",
       "         9.9950e-01, 6.2177e-05, 1.5324e-05], device='cuda:0',\n",
       "        grad_fn=<SoftmaxBackward0>),\n",
       " tensor([0.0646], device='cuda:0', grad_fn=<TanhBackward0>))"
      ]
     },
     "execution_count": 3,
     "metadata": {},
     "output_type": "execute_result"
    }
   ],
   "source": [
    "import torch\n",
    "test_input = torch.tensor([[1, 0, -1], [1, -1, 0], [0, 0, 0]], dtype = torch.float32, device = 'cuda')\n",
    "agent.network(test_input)"
   ]
  }
 ],
 "metadata": {
  "kernelspec": {
   "display_name": "Python 3.10.4 ('love4ml')",
   "language": "python",
   "name": "python3"
  },
  "language_info": {
   "codemirror_mode": {
    "name": "ipython",
    "version": 3
   },
   "file_extension": ".py",
   "mimetype": "text/x-python",
   "name": "python",
   "nbconvert_exporter": "python",
   "pygments_lexer": "ipython3",
   "version": "3.10.4"
  },
  "orig_nbformat": 4,
  "vscode": {
   "interpreter": {
    "hash": "f18ae30d8c66d70b70f9056193cb7f462aa0a1a92f2b7abb2342a9d5cf787112"
   }
  }
 },
 "nbformat": 4,
 "nbformat_minor": 2
}
